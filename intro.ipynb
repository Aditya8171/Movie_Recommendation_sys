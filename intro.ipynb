{
 "cells": [
  {
   "cell_type": "markdown",
   "metadata": {},
   "source": [
    "# Recommendation System:\n",
    "- A Recommendation System is a type of information filtering system that predicts the preferences or ratings a user would give to a particular item. \n",
    "- These systems are used in various domains like e-commerce (e.g., Amazon), streaming services (e.g., Netflix, Spotify), and social media platforms (e.g., YouTube, Facebook) to provide personalized content and suggestions to users.\n",
    "- **It is of main three types:**\n",
    " 1. Content based (by using your feedback or cookies or by tags)\n",
    " 2. Collaborative Filtering (by using users content like friends)\n",
    " 3. Hybrid (by using both)"
   ]
  },
  {
   "cell_type": "markdown",
   "metadata": {},
   "source": [
    "## Movie Recommendation System\n",
    "- In this we use Content based recommendation system."
   ]
  },
  {
   "cell_type": "markdown",
   "metadata": {},
   "source": [
    "# Project Overflow:\n",
    "1. Data acquition \n",
    "2. Preprocessing\n",
    "3. Model\n",
    "4. Website\n",
    "5. Deploy"
   ]
  },
  {
   "cell_type": "markdown",
   "metadata": {},
   "source": []
  }
 ],
 "metadata": {
  "language_info": {
   "name": "python"
  }
 },
 "nbformat": 4,
 "nbformat_minor": 2
}
